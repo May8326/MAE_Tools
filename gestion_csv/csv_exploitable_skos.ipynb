{
 "cells": [
  {
   "cell_type": "markdown",
   "id": "61387350",
   "metadata": {},
   "source": [
    "# Carnet pour nettoyer les csv issus de wikidata"
   ]
  }
 ],
 "metadata": {
  "language_info": {
   "name": "python"
  }
 },
 "nbformat": 4,
 "nbformat_minor": 5
}
