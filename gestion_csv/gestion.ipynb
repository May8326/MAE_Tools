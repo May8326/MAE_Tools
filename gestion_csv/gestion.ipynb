{
 "cells": [
  {
   "cell_type": "markdown",
   "metadata": {},
   "source": [
    "# Manipulation, SKOSification et Export Arborescent d'un Thésaurus CSV\n",
    "\n",
    "Ce carnet réalise les étapes suivantes :\n",
    "- Lecture d'un fichier CSV de thésaurus (structure ISO 25964)\n",
    "- Construction d'un graphe SKOS (via rdflib)\n",
    "- Visualisation de l'arbre et du graphe de concepts (networkx, matplotlib)\n",
    "- Export d'un nouveau CSV avec l'arborescence explicite, une colonne par niveau\n",
    "\n",
    "⚠️ Adaptez les chemins de fichiers selon vos besoins.\n"
   ]
  },
  {
   "cell_type": "code",
   "execution_count": 15,
   "metadata": {},
   "outputs": [],
   "source": [
    "# Imports nécessaires\n",
    "import csv\n",
    "from rdflib import Graph, Namespace, URIRef, Literal\n",
    "from rdflib.namespace import SKOS, RDF\n",
    "import networkx as nx\n",
    "import pandas as pd\n",
    "import tkinter as tk\n",
    "import matplotlib.pyplot as plt\n",
    "%matplotlib qt\n"
   ]
  },
  {
   "cell_type": "markdown",
   "metadata": {},
   "source": [
    "## 1. Paramètres et fonctions utilitaires"
   ]
  },
  {
   "cell_type": "code",
   "execution_count": 5,
   "metadata": {},
   "outputs": [],
   "source": [
    "# Chemin du fichier CSV d'entrée et des résultats\n",
    "DATA_DIR = \"data\"  # À adapter\n",
    "CSV_FILE = f\"{DATA_DIR}/20250710_BIB.csv\"  # À adapter\n",
    "SKOS_FILE = f\"{DATA_DIR}/thesaurus.ttl\"\n",
    "ARBO_CSV = f\"{DATA_DIR}/arborescence_niveaux.csv\"\n",
    "\n",
    "# Namespaces SKOS/EXEMPLE\n",
    "EX = Namespace(\"http://example.org/mae/\")\n",
    "THESAURUS = Namespace(\"http://example.org/mae/thesaurus/\")\n",
    "\n",
    "def clean_label(label):\n",
    "    return label.strip() if label else \"\"\n",
    "\n",
    "def make_uri(prefix, id):\n",
    "    return URIRef(f\"{prefix}{id}\")"
   ]
  },
  {
   "cell_type": "markdown",
   "metadata": {},
   "source": [
    "## 2. Lecture et parsing du CSV (point-virgule, encodage Windows/accents)"
   ]
  },
  {
   "cell_type": "code",
   "execution_count": 6,
   "metadata": {},
   "outputs": [
    {
     "name": "stdout",
     "output_type": "stream",
     "text": [
      "27680 concepts lus.\n"
     ]
    }
   ],
   "source": [
    "def read_thesaurus_csv(csv_file):\n",
    "    \"\"\"\n",
    "    Lecture du thésaurus au format CSV (point-virgule, encodage Windows),\n",
    "    retourne une liste de concepts (dicts)\n",
    "    \"\"\"\n",
    "    concepts = []\n",
    "    for encoding in ('cp1252', 'utf-8-sig'):\n",
    "        try:\n",
    "            with open(csv_file, newline='', encoding=encoding) as f:\n",
    "                reader = csv.DictReader(f, delimiter=';')\n",
    "                for row in reader:\n",
    "                    clean_row = {k: (v.strip() if isinstance(v, str) else \"\") for k, v in row.items()}\n",
    "                    concepts.append(clean_row)\n",
    "            break\n",
    "        except UnicodeDecodeError:\n",
    "            concepts = []\n",
    "            continue\n",
    "    if not concepts:\n",
    "        raise UnicodeDecodeError(\"Impossible de lire le fichier avec cp1252 ni utf-8-sig.\")\n",
    "    print(f\"{len(concepts)} concepts lus.\")\n",
    "    return concepts\n",
    "\n",
    "concepts = read_thesaurus_csv(CSV_FILE)"
   ]
  },
  {
   "cell_type": "markdown",
   "metadata": {},
   "source": [
    "## 3. Construction du graphe SKOS et de l'index d'arborescence"
   ]
  },
  {
   "cell_type": "code",
   "execution_count": 16,
   "metadata": {},
   "outputs": [
    {
     "name": "stdout",
     "output_type": "stream",
     "text": [
      "Graphe SKOS construit.\n",
      "Exporté SKOS vers data/thesaurus.ttl\n"
     ]
    }
   ],
   "source": [
    "def build_skos_graph(concepts):\n",
    "    g = Graph()\n",
    "    g.bind(\"skos\", SKOS)\n",
    "    g.bind(\"ex\", EX)\n",
    "    g.bind(\"th\", THESAURUS)\n",
    "    id_to_uri = {}\n",
    "\n",
    "    for c in concepts:\n",
    "        # Générique\n",
    "        gen_id = c[\"ID_TG\"]\n",
    "        gen_label = clean_label(c[\"TermeGen\"])\n",
    "        if gen_id and gen_label:\n",
    "            gen_uri = make_uri(THESAURUS, gen_id)\n",
    "            id_to_uri[gen_id] = gen_uri\n",
    "            g.add((gen_uri, RDF.type, SKOS.Concept))\n",
    "            g.add((gen_uri, SKOS.prefLabel, Literal(gen_label, lang=\"fr\")))\n",
    "        # Spécifique\n",
    "        spe_id = c[\"ID_TS\"]\n",
    "        spe_label = clean_label(c[\"TermeSpe\"])\n",
    "        if spe_id and spe_label:\n",
    "            spe_uri = make_uri(THESAURUS, spe_id)\n",
    "            id_to_uri[spe_id] = spe_uri\n",
    "            g.add((spe_uri, RDF.type, SKOS.Concept))\n",
    "            g.add((spe_uri, SKOS.prefLabel, Literal(spe_label, lang=\"fr\")))\n",
    "            if gen_id and gen_label:\n",
    "                g.add((spe_uri, SKOS.broader, gen_uri))\n",
    "                g.add((gen_uri, SKOS.narrower, spe_uri))\n",
    "            # Notes\n",
    "            note = c.get(\"Note\", \"\")\n",
    "            if note:\n",
    "                g.add((spe_uri, SKOS.note, Literal(note, lang=\"fr\")))\n",
    "            # EP\n",
    "            ep = c.get(\"EP\", \"\")\n",
    "            if ep:\n",
    "                for alt in ep.split(\"|\"):\n",
    "                    alt = alt.strip()\n",
    "                    if alt:\n",
    "                        g.add((spe_uri, SKOS.altLabel, Literal(alt, lang=\"fr\")))\n",
    "            # TA (termes associés)\n",
    "            ta = c.get(\"TA\", \"\")\n",
    "            id_ta = c.get(\"ID_TA\", \"\")\n",
    "            if ta and id_ta:\n",
    "                ta_labels = [x.strip() for x in ta.split(\"|\")]\n",
    "                ta_ids = [x.strip() for x in id_ta.split(\"|\")]\n",
    "                for tlabel, tid in zip(ta_labels, ta_ids):\n",
    "                    if tid:\n",
    "                        ta_uri = make_uri(THESAURUS, tid)\n",
    "                        if (ta_uri, RDF.type, SKOS.Concept) not in g:\n",
    "                            g.add((ta_uri, RDF.type, SKOS.Concept))\n",
    "                            g.add((ta_uri, SKOS.prefLabel, Literal(tlabel, lang=\"fr\")))\n",
    "                        g.add((spe_uri, SKOS.related, ta_uri))\n",
    "                        g.add((ta_uri, SKOS.related, spe_uri))\n",
    "    print(\"Graphe SKOS construit.\")\n",
    "    return g, id_to_uri\n",
    "\n",
    "skos_graph, id_to_uri = build_skos_graph(concepts)\n",
    "# Export SKOS\n",
    "skos_graph.serialize(destination=SKOS_FILE, format=\"turtle\")\n",
    "print(f\"Exporté SKOS vers {SKOS_FILE}\")"
   ]
  },
  {
   "cell_type": "markdown",
   "metadata": {},
   "source": [
    "## 4. Visualisation : arbre et graphe complet"
   ]
  },
  {
   "cell_type": "code",
   "execution_count": 17,
   "metadata": {},
   "outputs": [
    {
     "name": "stdout",
     "output_type": "stream",
     "text": [
      "Graphe de visualisation construit : 21519 noeuds, 26554 arêtes.\n"
     ]
    }
   ],
   "source": [
    "def build_networkx_graph(concepts):\n",
    "    G = nx.DiGraph()\n",
    "    id_to_label = {}\n",
    "    for c in concepts:\n",
    "        if c[\"ID_TG\"]:\n",
    "            id_to_label[c[\"ID_TG\"]] = c[\"TermeGen\"]\n",
    "        if c[\"ID_TS\"]:\n",
    "            id_to_label[c[\"ID_TS\"]] = c[\"TermeSpe\"]\n",
    "    for c in concepts:\n",
    "        gen_id = c[\"ID_TG\"]\n",
    "        spe_id = c[\"ID_TS\"]\n",
    "        if gen_id and spe_id:\n",
    "            G.add_edge(id_to_label[gen_id], id_to_label[spe_id], relation=\"broader\")\n",
    "        ta = c.get(\"TA\", \"\")\n",
    "        id_ta = c.get(\"ID_TA\", \"\")\n",
    "        if ta and id_ta and spe_id:\n",
    "            ta_labels = [x.strip() for x in ta.split(\"|\")]\n",
    "            ta_ids = [x.strip() for x in id_ta.split(\"|\")]\n",
    "            for tlabel, tid in zip(ta_labels, ta_ids):\n",
    "                if tid and tid in id_to_label:\n",
    "                    G.add_edge(id_to_label[spe_id], id_to_label[tid], relation=\"related\")\n",
    "    print(f\"Graphe de visualisation construit : {G.number_of_nodes()} noeuds, {G.number_of_edges()} arêtes.\")\n",
    "    return G\n",
    "\n",
    "G = build_networkx_graph(concepts)\n",
    "# Arbre (relations broader seulement)\n",
    "def plot_tree(G):\n",
    "    T = nx.DiGraph()\n",
    "    for u, v, d in G.edges(data=True):\n",
    "        if d[\"relation\"] == \"broader\":\n",
    "            T.add_edge(u, v)\n",
    "    plt.figure(figsize=(13, 6))\n",
    "    pos = nx.shell_layout(T)\n",
    "    nx.draw(T, pos, with_labels=True, arrows=True, node_color='lightblue', node_size=1000, font_size=9)\n",
    "    plt.title(\"Arbre hiérarchique (générique > spécifique)\")\n",
    "    plt.show()\n",
    "plot_tree(G)"
   ]
  },
  {
   "cell_type": "code",
   "execution_count": 9,
   "metadata": {},
   "outputs": [
    {
     "ename": "KeyboardInterrupt",
     "evalue": "",
     "output_type": "error",
     "traceback": [
      "\u001b[31m---------------------------------------------------------------------------\u001b[39m",
      "\u001b[31mKeyboardInterrupt\u001b[39m                         Traceback (most recent call last)",
      "\u001b[36mCell\u001b[39m\u001b[36m \u001b[39m\u001b[32mIn[9]\u001b[39m\u001b[32m, line 9\u001b[39m\n\u001b[32m      7\u001b[39m     plt.title(\u001b[33m\"\u001b[39m\u001b[33mThésaurus : génériques et associés\u001b[39m\u001b[33m\"\u001b[39m)\n\u001b[32m      8\u001b[39m     plt.show()\n\u001b[32m----> \u001b[39m\u001b[32m9\u001b[39m \u001b[43mplot_graph\u001b[49m\u001b[43m(\u001b[49m\u001b[43mG\u001b[49m\u001b[43m)\u001b[49m\n",
      "\u001b[36mCell\u001b[39m\u001b[36m \u001b[39m\u001b[32mIn[9]\u001b[39m\u001b[32m, line 4\u001b[39m, in \u001b[36mplot_graph\u001b[39m\u001b[34m(G)\u001b[39m\n\u001b[32m      2\u001b[39m \u001b[38;5;28;01mdef\u001b[39;00m\u001b[38;5;250m \u001b[39m\u001b[34mplot_graph\u001b[39m(G):\n\u001b[32m      3\u001b[39m     plt.figure(figsize=(\u001b[32m15\u001b[39m, \u001b[32m8\u001b[39m))\n\u001b[32m----> \u001b[39m\u001b[32m4\u001b[39m     pos = \u001b[43mnx\u001b[49m\u001b[43m.\u001b[49m\u001b[43mspring_layout\u001b[49m\u001b[43m(\u001b[49m\u001b[43mG\u001b[49m\u001b[43m,\u001b[49m\u001b[43m \u001b[49m\u001b[43mseed\u001b[49m\u001b[43m=\u001b[49m\u001b[32;43m42\u001b[39;49m\u001b[43m,\u001b[49m\u001b[43m \u001b[49m\u001b[43mk\u001b[49m\u001b[43m=\u001b[49m\u001b[32;43m0.25\u001b[39;49m\u001b[43m)\u001b[49m\n\u001b[32m      5\u001b[39m     edge_colors = [\u001b[33m\"\u001b[39m\u001b[33mblue\u001b[39m\u001b[33m\"\u001b[39m \u001b[38;5;28;01mif\u001b[39;00m d[\u001b[33m\"\u001b[39m\u001b[33mrelation\u001b[39m\u001b[33m\"\u001b[39m]==\u001b[33m\"\u001b[39m\u001b[33mbroader\u001b[39m\u001b[33m\"\u001b[39m \u001b[38;5;28;01melse\u001b[39;00m \u001b[33m\"\u001b[39m\u001b[33morange\u001b[39m\u001b[33m\"\u001b[39m \u001b[38;5;28;01mfor\u001b[39;00m u,v,d \u001b[38;5;129;01min\u001b[39;00m G.edges(data=\u001b[38;5;28;01mTrue\u001b[39;00m)]\n\u001b[32m      6\u001b[39m     nx.draw(G, pos, with_labels=\u001b[38;5;28;01mTrue\u001b[39;00m, arrows=\u001b[38;5;28;01mTrue\u001b[39;00m, node_color=\u001b[33m'\u001b[39m\u001b[33mlightgreen\u001b[39m\u001b[33m'\u001b[39m, edge_color=edge_colors, node_size=\u001b[32m1000\u001b[39m, font_size=\u001b[32m9\u001b[39m)\n",
      "\u001b[36mFile \u001b[39m\u001b[32mc:\\Users\\mgioan\\Code\\MAE_Tools\\gestion_csv\\.env\\Lib\\site-packages\\networkx\\utils\\decorators.py:784\u001b[39m, in \u001b[36margmap.__call__.<locals>.func\u001b[39m\u001b[34m(_argmap__wrapper, *args, **kwargs)\u001b[39m\n\u001b[32m    783\u001b[39m \u001b[38;5;28;01mdef\u001b[39;00m\u001b[38;5;250m \u001b[39m\u001b[34mfunc\u001b[39m(*args, __wrapper=\u001b[38;5;28;01mNone\u001b[39;00m, **kwargs):\n\u001b[32m--> \u001b[39m\u001b[32m784\u001b[39m     \u001b[38;5;28;01mreturn\u001b[39;00m \u001b[43margmap\u001b[49m\u001b[43m.\u001b[49m\u001b[43m_lazy_compile\u001b[49m\u001b[43m(\u001b[49m\u001b[43m__wrapper\u001b[49m\u001b[43m)\u001b[49m\u001b[43m(\u001b[49m\u001b[43m*\u001b[49m\u001b[43margs\u001b[49m\u001b[43m,\u001b[49m\u001b[43m \u001b[49m\u001b[43m*\u001b[49m\u001b[43m*\u001b[49m\u001b[43mkwargs\u001b[49m\u001b[43m)\u001b[49m\n",
      "\u001b[36mFile \u001b[39m\u001b[32m<class 'networkx.utils.decorators.argmap'> compilation 4:4\u001b[39m, in \u001b[36margmap_spring_layout_1\u001b[39m\u001b[34m(G, k, pos, fixed, iterations, threshold, weight, scale, center, dim, seed, store_pos_as, method, gravity)\u001b[39m\n\u001b[32m      2\u001b[39m \u001b[38;5;28;01mimport\u001b[39;00m\u001b[38;5;250m \u001b[39m\u001b[34;01mcollections\u001b[39;00m\n\u001b[32m      3\u001b[39m \u001b[38;5;28;01mimport\u001b[39;00m\u001b[38;5;250m \u001b[39m\u001b[34;01mgzip\u001b[39;00m\n\u001b[32m----> \u001b[39m\u001b[32m4\u001b[39m \u001b[38;5;28;01mimport\u001b[39;00m\u001b[38;5;250m \u001b[39m\u001b[34;01minspect\u001b[39;00m\n\u001b[32m      5\u001b[39m \u001b[38;5;28;01mimport\u001b[39;00m\u001b[38;5;250m \u001b[39m\u001b[34;01mitertools\u001b[39;00m\n\u001b[32m      6\u001b[39m \u001b[38;5;28;01mimport\u001b[39;00m\u001b[38;5;250m \u001b[39m\u001b[34;01mre\u001b[39;00m\n",
      "\u001b[36mFile \u001b[39m\u001b[32mc:\\Users\\mgioan\\Code\\MAE_Tools\\gestion_csv\\.env\\Lib\\site-packages\\networkx\\drawing\\layout.py:633\u001b[39m, in \u001b[36mspring_layout\u001b[39m\u001b[34m(G, k, pos, fixed, iterations, threshold, weight, scale, center, dim, seed, store_pos_as, method, gravity)\u001b[39m\n\u001b[32m    631\u001b[39m         nnodes, _ = A.shape\n\u001b[32m    632\u001b[39m         k = dom_size / np.sqrt(nnodes)\n\u001b[32m--> \u001b[39m\u001b[32m633\u001b[39m     pos = \u001b[43m_sparse_fruchterman_reingold\u001b[49m\u001b[43m(\u001b[49m\n\u001b[32m    634\u001b[39m \u001b[43m        \u001b[49m\u001b[43mA\u001b[49m\u001b[43m,\u001b[49m\u001b[43m \u001b[49m\u001b[43mk\u001b[49m\u001b[43m,\u001b[49m\u001b[43m \u001b[49m\u001b[43mpos_arr\u001b[49m\u001b[43m,\u001b[49m\u001b[43m \u001b[49m\u001b[43mfixed\u001b[49m\u001b[43m,\u001b[49m\u001b[43m \u001b[49m\u001b[43miterations\u001b[49m\u001b[43m,\u001b[49m\u001b[43m \u001b[49m\u001b[43mthreshold\u001b[49m\u001b[43m,\u001b[49m\u001b[43m \u001b[49m\u001b[43mdim\u001b[49m\u001b[43m,\u001b[49m\u001b[43m \u001b[49m\u001b[43mseed\u001b[49m\u001b[43m,\u001b[49m\u001b[43m \u001b[49m\u001b[43mmethod\u001b[49m\u001b[43m,\u001b[49m\u001b[43m \u001b[49m\u001b[43mgravity\u001b[49m\n\u001b[32m    635\u001b[39m \u001b[43m    \u001b[49m\u001b[43m)\u001b[49m\n\u001b[32m    636\u001b[39m \u001b[38;5;28;01melse\u001b[39;00m:\n\u001b[32m    637\u001b[39m     A = nx.to_numpy_array(G, weight=weight)\n",
      "\u001b[36mFile \u001b[39m\u001b[32mc:\\Users\\mgioan\\Code\\MAE_Tools\\gestion_csv\\.env\\Lib\\site-packages\\networkx\\utils\\decorators.py:784\u001b[39m, in \u001b[36margmap.__call__.<locals>.func\u001b[39m\u001b[34m(_argmap__wrapper, *args, **kwargs)\u001b[39m\n\u001b[32m    783\u001b[39m \u001b[38;5;28;01mdef\u001b[39;00m\u001b[38;5;250m \u001b[39m\u001b[34mfunc\u001b[39m(*args, __wrapper=\u001b[38;5;28;01mNone\u001b[39;00m, **kwargs):\n\u001b[32m--> \u001b[39m\u001b[32m784\u001b[39m     \u001b[38;5;28;01mreturn\u001b[39;00m \u001b[43margmap\u001b[49m\u001b[43m.\u001b[49m\u001b[43m_lazy_compile\u001b[49m\u001b[43m(\u001b[49m\u001b[43m__wrapper\u001b[49m\u001b[43m)\u001b[49m\u001b[43m(\u001b[49m\u001b[43m*\u001b[49m\u001b[43margs\u001b[49m\u001b[43m,\u001b[49m\u001b[43m \u001b[49m\u001b[43m*\u001b[49m\u001b[43m*\u001b[49m\u001b[43mkwargs\u001b[49m\u001b[43m)\u001b[49m\n",
      "\u001b[36mFile \u001b[39m\u001b[32m<class 'networkx.utils.decorators.argmap'> compilation 12:4\u001b[39m, in \u001b[36margmap__sparse_fruchterman_reingold_9\u001b[39m\u001b[34m(A, k, pos, fixed, iterations, threshold, dim, seed, method, gravity)\u001b[39m\n\u001b[32m      2\u001b[39m \u001b[38;5;28;01mimport\u001b[39;00m\u001b[38;5;250m \u001b[39m\u001b[34;01mcollections\u001b[39;00m\n\u001b[32m      3\u001b[39m \u001b[38;5;28;01mimport\u001b[39;00m\u001b[38;5;250m \u001b[39m\u001b[34;01mgzip\u001b[39;00m\n\u001b[32m----> \u001b[39m\u001b[32m4\u001b[39m \u001b[38;5;28;01mimport\u001b[39;00m\u001b[38;5;250m \u001b[39m\u001b[34;01minspect\u001b[39;00m\n\u001b[32m      5\u001b[39m \u001b[38;5;28;01mimport\u001b[39;00m\u001b[38;5;250m \u001b[39m\u001b[34;01mitertools\u001b[39;00m\n\u001b[32m      6\u001b[39m \u001b[38;5;28;01mimport\u001b[39;00m\u001b[38;5;250m \u001b[39m\u001b[34;01mre\u001b[39;00m\n",
      "\u001b[36mFile \u001b[39m\u001b[32mc:\\Users\\mgioan\\Code\\MAE_Tools\\gestion_csv\\.env\\Lib\\site-packages\\networkx\\drawing\\layout.py:761\u001b[39m, in \u001b[36m_sparse_fruchterman_reingold\u001b[39m\u001b[34m(A, k, pos, fixed, iterations, threshold, dim, seed, method, gravity)\u001b[39m\n\u001b[32m    758\u001b[39m     k = np.sqrt(\u001b[32m1.0\u001b[39m / nnodes)\n\u001b[32m    760\u001b[39m \u001b[38;5;28;01mif\u001b[39;00m method == \u001b[33m\"\u001b[39m\u001b[33menergy\u001b[39m\u001b[33m\"\u001b[39m:\n\u001b[32m--> \u001b[39m\u001b[32m761\u001b[39m     \u001b[38;5;28;01mreturn\u001b[39;00m \u001b[43m_energy_fruchterman_reingold\u001b[49m\u001b[43m(\u001b[49m\n\u001b[32m    762\u001b[39m \u001b[43m        \u001b[49m\u001b[43mA\u001b[49m\u001b[43m,\u001b[49m\u001b[43m \u001b[49m\u001b[43mnnodes\u001b[49m\u001b[43m,\u001b[49m\u001b[43m \u001b[49m\u001b[43mk\u001b[49m\u001b[43m,\u001b[49m\u001b[43m \u001b[49m\u001b[43mpos\u001b[49m\u001b[43m,\u001b[49m\u001b[43m \u001b[49m\u001b[43mfixed\u001b[49m\u001b[43m,\u001b[49m\u001b[43m \u001b[49m\u001b[43miterations\u001b[49m\u001b[43m,\u001b[49m\u001b[43m \u001b[49m\u001b[43mthreshold\u001b[49m\u001b[43m,\u001b[49m\u001b[43m \u001b[49m\u001b[43mdim\u001b[49m\u001b[43m,\u001b[49m\u001b[43m \u001b[49m\u001b[43mgravity\u001b[49m\n\u001b[32m    763\u001b[39m \u001b[43m    \u001b[49m\u001b[43m)\u001b[49m\n\u001b[32m    765\u001b[39m \u001b[38;5;66;03m# make sure we have a LIst of Lists representation\u001b[39;00m\n\u001b[32m    766\u001b[39m \u001b[38;5;28;01mtry\u001b[39;00m:\n",
      "\u001b[36mFile \u001b[39m\u001b[32mc:\\Users\\mgioan\\Code\\MAE_Tools\\gestion_csv\\.env\\Lib\\site-packages\\networkx\\drawing\\layout.py:866\u001b[39m, in \u001b[36m_energy_fruchterman_reingold\u001b[39m\u001b[34m(A, nnodes, k, pos, fixed, iterations, threshold, dim, gravity)\u001b[39m\n\u001b[32m    864\u001b[39m \u001b[38;5;66;03m# Optimization of the energy function by L-BFGS algorithm\u001b[39;00m\n\u001b[32m    865\u001b[39m options = {\u001b[33m\"\u001b[39m\u001b[33mmaxiter\u001b[39m\u001b[33m\"\u001b[39m: iterations, \u001b[33m\"\u001b[39m\u001b[33mgtol\u001b[39m\u001b[33m\"\u001b[39m: threshold}\n\u001b[32m--> \u001b[39m\u001b[32m866\u001b[39m \u001b[38;5;28;01mreturn\u001b[39;00m \u001b[43msp\u001b[49m\u001b[43m.\u001b[49m\u001b[43moptimize\u001b[49m\u001b[43m.\u001b[49m\u001b[43mminimize\u001b[49m\u001b[43m(\u001b[49m\n\u001b[32m    867\u001b[39m \u001b[43m    \u001b[49m\u001b[43m_cost_FR\u001b[49m\u001b[43m,\u001b[49m\u001b[43m \u001b[49m\u001b[43mpos\u001b[49m\u001b[43m.\u001b[49m\u001b[43mravel\u001b[49m\u001b[43m(\u001b[49m\u001b[43m)\u001b[49m\u001b[43m,\u001b[49m\u001b[43m \u001b[49m\u001b[43mmethod\u001b[49m\u001b[43m=\u001b[49m\u001b[33;43m\"\u001b[39;49m\u001b[33;43mL-BFGS-B\u001b[39;49m\u001b[33;43m\"\u001b[39;49m\u001b[43m,\u001b[49m\u001b[43m \u001b[49m\u001b[43mjac\u001b[49m\u001b[43m=\u001b[49m\u001b[38;5;28;43;01mTrue\u001b[39;49;00m\u001b[43m,\u001b[49m\u001b[43m \u001b[49m\u001b[43moptions\u001b[49m\u001b[43m=\u001b[49m\u001b[43moptions\u001b[49m\n\u001b[32m    868\u001b[39m \u001b[43m\u001b[49m\u001b[43m)\u001b[49m.x.reshape((nnodes, dim))\n",
      "\u001b[36mFile \u001b[39m\u001b[32mc:\\Users\\mgioan\\Code\\MAE_Tools\\gestion_csv\\.env\\Lib\\site-packages\\scipy\\optimize\\_minimize.py:785\u001b[39m, in \u001b[36mminimize\u001b[39m\u001b[34m(fun, x0, args, method, jac, hess, hessp, bounds, constraints, tol, callback, options)\u001b[39m\n\u001b[32m    782\u001b[39m     res = _minimize_newtoncg(fun, x0, args, jac, hess, hessp, callback,\n\u001b[32m    783\u001b[39m                              **options)\n\u001b[32m    784\u001b[39m \u001b[38;5;28;01melif\u001b[39;00m meth == \u001b[33m'\u001b[39m\u001b[33ml-bfgs-b\u001b[39m\u001b[33m'\u001b[39m:\n\u001b[32m--> \u001b[39m\u001b[32m785\u001b[39m     res = \u001b[43m_minimize_lbfgsb\u001b[49m\u001b[43m(\u001b[49m\u001b[43mfun\u001b[49m\u001b[43m,\u001b[49m\u001b[43m \u001b[49m\u001b[43mx0\u001b[49m\u001b[43m,\u001b[49m\u001b[43m \u001b[49m\u001b[43margs\u001b[49m\u001b[43m,\u001b[49m\u001b[43m \u001b[49m\u001b[43mjac\u001b[49m\u001b[43m,\u001b[49m\u001b[43m \u001b[49m\u001b[43mbounds\u001b[49m\u001b[43m,\u001b[49m\n\u001b[32m    786\u001b[39m \u001b[43m                           \u001b[49m\u001b[43mcallback\u001b[49m\u001b[43m=\u001b[49m\u001b[43mcallback\u001b[49m\u001b[43m,\u001b[49m\u001b[43m \u001b[49m\u001b[43m*\u001b[49m\u001b[43m*\u001b[49m\u001b[43moptions\u001b[49m\u001b[43m)\u001b[49m\n\u001b[32m    787\u001b[39m \u001b[38;5;28;01melif\u001b[39;00m meth == \u001b[33m'\u001b[39m\u001b[33mtnc\u001b[39m\u001b[33m'\u001b[39m:\n\u001b[32m    788\u001b[39m     res = _minimize_tnc(fun, x0, args, jac, bounds, callback=callback,\n\u001b[32m    789\u001b[39m                         **options)\n",
      "\u001b[36mFile \u001b[39m\u001b[32mc:\\Users\\mgioan\\Code\\MAE_Tools\\gestion_csv\\.env\\Lib\\site-packages\\scipy\\optimize\\_lbfgsb_py.py:469\u001b[39m, in \u001b[36m_minimize_lbfgsb\u001b[39m\u001b[34m(fun, x0, args, jac, bounds, disp, maxcor, ftol, gtol, eps, maxfun, maxiter, iprint, callback, maxls, finite_diff_rel_step, workers, **unknown_options)\u001b[39m\n\u001b[32m    461\u001b[39m _lbfgsb.setulb(m, x, low_bnd, upper_bnd, nbd, f, g, factr, pgtol, wa,\n\u001b[32m    462\u001b[39m                iwa, task, lsave, isave, dsave, maxls, ln_task)\n\u001b[32m    464\u001b[39m \u001b[38;5;28;01mif\u001b[39;00m task[\u001b[32m0\u001b[39m] == \u001b[32m3\u001b[39m:\n\u001b[32m    465\u001b[39m     \u001b[38;5;66;03m# The minimization routine wants f and g at the current x.\u001b[39;00m\n\u001b[32m    466\u001b[39m     \u001b[38;5;66;03m# Note that interruptions due to maxfun are postponed\u001b[39;00m\n\u001b[32m    467\u001b[39m     \u001b[38;5;66;03m# until the completion of the current minimization iteration.\u001b[39;00m\n\u001b[32m    468\u001b[39m     \u001b[38;5;66;03m# Overwrite f and g:\u001b[39;00m\n\u001b[32m--> \u001b[39m\u001b[32m469\u001b[39m     f, g = \u001b[43mfunc_and_grad\u001b[49m\u001b[43m(\u001b[49m\u001b[43mx\u001b[49m\u001b[43m)\u001b[49m\n\u001b[32m    470\u001b[39m \u001b[38;5;28;01melif\u001b[39;00m task[\u001b[32m0\u001b[39m] == \u001b[32m1\u001b[39m:\n\u001b[32m    471\u001b[39m     \u001b[38;5;66;03m# new iteration\u001b[39;00m\n\u001b[32m    472\u001b[39m     n_iterations += \u001b[32m1\u001b[39m\n",
      "\u001b[36mFile \u001b[39m\u001b[32mc:\\Users\\mgioan\\Code\\MAE_Tools\\gestion_csv\\.env\\Lib\\site-packages\\scipy\\optimize\\_differentiable_functions.py:403\u001b[39m, in \u001b[36mScalarFunction.fun_and_grad\u001b[39m\u001b[34m(self, x)\u001b[39m\n\u001b[32m    401\u001b[39m \u001b[38;5;28;01mif\u001b[39;00m \u001b[38;5;129;01mnot\u001b[39;00m np.array_equal(x, \u001b[38;5;28mself\u001b[39m.x):\n\u001b[32m    402\u001b[39m     \u001b[38;5;28mself\u001b[39m._update_x(x)\n\u001b[32m--> \u001b[39m\u001b[32m403\u001b[39m \u001b[38;5;28;43mself\u001b[39;49m\u001b[43m.\u001b[49m\u001b[43m_update_fun\u001b[49m\u001b[43m(\u001b[49m\u001b[43m)\u001b[49m\n\u001b[32m    404\u001b[39m \u001b[38;5;28mself\u001b[39m._update_grad()\n\u001b[32m    405\u001b[39m \u001b[38;5;28;01mreturn\u001b[39;00m \u001b[38;5;28mself\u001b[39m.f, \u001b[38;5;28mself\u001b[39m.g\n",
      "\u001b[36mFile \u001b[39m\u001b[32mc:\\Users\\mgioan\\Code\\MAE_Tools\\gestion_csv\\.env\\Lib\\site-packages\\scipy\\optimize\\_differentiable_functions.py:353\u001b[39m, in \u001b[36mScalarFunction._update_fun\u001b[39m\u001b[34m(self)\u001b[39m\n\u001b[32m    351\u001b[39m \u001b[38;5;28;01mdef\u001b[39;00m\u001b[38;5;250m \u001b[39m\u001b[34m_update_fun\u001b[39m(\u001b[38;5;28mself\u001b[39m):\n\u001b[32m    352\u001b[39m     \u001b[38;5;28;01mif\u001b[39;00m \u001b[38;5;129;01mnot\u001b[39;00m \u001b[38;5;28mself\u001b[39m.f_updated:\n\u001b[32m--> \u001b[39m\u001b[32m353\u001b[39m         fx = \u001b[38;5;28;43mself\u001b[39;49m\u001b[43m.\u001b[49m\u001b[43m_wrapped_fun\u001b[49m\u001b[43m(\u001b[49m\u001b[38;5;28;43mself\u001b[39;49m\u001b[43m.\u001b[49m\u001b[43mx\u001b[49m\u001b[43m)\u001b[49m\n\u001b[32m    354\u001b[39m         \u001b[38;5;28mself\u001b[39m._nfev += \u001b[32m1\u001b[39m\n\u001b[32m    355\u001b[39m         \u001b[38;5;28;01mif\u001b[39;00m fx < \u001b[38;5;28mself\u001b[39m._lowest_f:\n",
      "\u001b[36mFile \u001b[39m\u001b[32mc:\\Users\\mgioan\\Code\\MAE_Tools\\gestion_csv\\.env\\Lib\\site-packages\\scipy\\_lib\\_util.py:583\u001b[39m, in \u001b[36m_ScalarFunctionWrapper.__call__\u001b[39m\u001b[34m(self, x)\u001b[39m\n\u001b[32m    580\u001b[39m \u001b[38;5;28;01mdef\u001b[39;00m\u001b[38;5;250m \u001b[39m\u001b[34m__call__\u001b[39m(\u001b[38;5;28mself\u001b[39m, x):\n\u001b[32m    581\u001b[39m     \u001b[38;5;66;03m# Send a copy because the user may overwrite it.\u001b[39;00m\n\u001b[32m    582\u001b[39m     \u001b[38;5;66;03m# The user of this class might want `x` to remain unchanged.\u001b[39;00m\n\u001b[32m--> \u001b[39m\u001b[32m583\u001b[39m     fx = \u001b[38;5;28;43mself\u001b[39;49m\u001b[43m.\u001b[49m\u001b[43mf\u001b[49m\u001b[43m(\u001b[49m\u001b[43mnp\u001b[49m\u001b[43m.\u001b[49m\u001b[43mcopy\u001b[49m\u001b[43m(\u001b[49m\u001b[43mx\u001b[49m\u001b[43m)\u001b[49m\u001b[43m,\u001b[49m\u001b[43m \u001b[49m\u001b[43m*\u001b[49m\u001b[38;5;28;43mself\u001b[39;49m\u001b[43m.\u001b[49m\u001b[43margs\u001b[49m\u001b[43m)\u001b[49m\n\u001b[32m    584\u001b[39m     \u001b[38;5;28mself\u001b[39m.nfev += \u001b[32m1\u001b[39m\n\u001b[32m    586\u001b[39m     \u001b[38;5;66;03m# Make sure the function returns a true scalar\u001b[39;00m\n",
      "\u001b[36mFile \u001b[39m\u001b[32mc:\\Users\\mgioan\\Code\\MAE_Tools\\gestion_csv\\.env\\Lib\\site-packages\\scipy\\optimize\\_optimize.py:80\u001b[39m, in \u001b[36mMemoizeJac.__call__\u001b[39m\u001b[34m(self, x, *args)\u001b[39m\n\u001b[32m     78\u001b[39m \u001b[38;5;28;01mdef\u001b[39;00m\u001b[38;5;250m \u001b[39m\u001b[34m__call__\u001b[39m(\u001b[38;5;28mself\u001b[39m, x, *args):\n\u001b[32m     79\u001b[39m \u001b[38;5;250m    \u001b[39m\u001b[33;03m\"\"\" returns the function value \"\"\"\u001b[39;00m\n\u001b[32m---> \u001b[39m\u001b[32m80\u001b[39m     \u001b[38;5;28;43mself\u001b[39;49m\u001b[43m.\u001b[49m\u001b[43m_compute_if_needed\u001b[49m\u001b[43m(\u001b[49m\u001b[43mx\u001b[49m\u001b[43m,\u001b[49m\u001b[43m \u001b[49m\u001b[43m*\u001b[49m\u001b[43margs\u001b[49m\u001b[43m)\u001b[49m\n\u001b[32m     81\u001b[39m     \u001b[38;5;28;01mreturn\u001b[39;00m \u001b[38;5;28mself\u001b[39m._value\n",
      "\u001b[36mFile \u001b[39m\u001b[32mc:\\Users\\mgioan\\Code\\MAE_Tools\\gestion_csv\\.env\\Lib\\site-packages\\scipy\\optimize\\_optimize.py:74\u001b[39m, in \u001b[36mMemoizeJac._compute_if_needed\u001b[39m\u001b[34m(self, x, *args)\u001b[39m\n\u001b[32m     72\u001b[39m \u001b[38;5;28;01mif\u001b[39;00m \u001b[38;5;129;01mnot\u001b[39;00m np.all(x == \u001b[38;5;28mself\u001b[39m.x) \u001b[38;5;129;01mor\u001b[39;00m \u001b[38;5;28mself\u001b[39m._value \u001b[38;5;129;01mis\u001b[39;00m \u001b[38;5;28;01mNone\u001b[39;00m \u001b[38;5;129;01mor\u001b[39;00m \u001b[38;5;28mself\u001b[39m.jac \u001b[38;5;129;01mis\u001b[39;00m \u001b[38;5;28;01mNone\u001b[39;00m:\n\u001b[32m     73\u001b[39m     \u001b[38;5;28mself\u001b[39m.x = np.asarray(x).copy()\n\u001b[32m---> \u001b[39m\u001b[32m74\u001b[39m     fg = \u001b[38;5;28;43mself\u001b[39;49m\u001b[43m.\u001b[49m\u001b[43mfun\u001b[49m\u001b[43m(\u001b[49m\u001b[43mx\u001b[49m\u001b[43m,\u001b[49m\u001b[43m \u001b[49m\u001b[43m*\u001b[49m\u001b[43margs\u001b[49m\u001b[43m)\u001b[49m\n\u001b[32m     75\u001b[39m     \u001b[38;5;28mself\u001b[39m.jac = fg[\u001b[32m1\u001b[39m]\n\u001b[32m     76\u001b[39m     \u001b[38;5;28mself\u001b[39m._value = fg[\u001b[32m0\u001b[39m]\n",
      "\u001b[36mFile \u001b[39m\u001b[32mc:\\Users\\mgioan\\Code\\MAE_Tools\\gestion_csv\\.env\\Lib\\site-packages\\networkx\\drawing\\layout.py:843\u001b[39m, in \u001b[36m_energy_fruchterman_reingold.<locals>._cost_FR\u001b[39m\u001b[34m(x)\u001b[39m\n\u001b[32m    841\u001b[39m delta = pos[l:r, np.newaxis, :] - pos[np.newaxis, :, :]\n\u001b[32m    842\u001b[39m \u001b[38;5;66;03m# distance between points with a minimum distance of 1e-5\u001b[39;00m\n\u001b[32m--> \u001b[39m\u001b[32m843\u001b[39m distance2 = \u001b[43mnp\u001b[49m\u001b[43m.\u001b[49m\u001b[43msum\u001b[49m\u001b[43m(\u001b[49m\u001b[43mdelta\u001b[49m\u001b[43m \u001b[49m\u001b[43m*\u001b[49m\u001b[43m \u001b[49m\u001b[43mdelta\u001b[49m\u001b[43m,\u001b[49m\u001b[43m \u001b[49m\u001b[43maxis\u001b[49m\u001b[43m=\u001b[49m\u001b[32;43m2\u001b[39;49m\u001b[43m)\u001b[49m\n\u001b[32m    844\u001b[39m distance2 = np.maximum(distance2, \u001b[32m1e-10\u001b[39m)\n\u001b[32m    845\u001b[39m distance = np.sqrt(distance2)\n",
      "\u001b[36mFile \u001b[39m\u001b[32mc:\\Users\\mgioan\\Code\\MAE_Tools\\gestion_csv\\.env\\Lib\\site-packages\\numpy\\_core\\fromnumeric.py:2333\u001b[39m, in \u001b[36m_sum_dispatcher\u001b[39m\u001b[34m(a, axis, dtype, out, keepdims, initial, where)\u001b[39m\n\u001b[32m   2327\u001b[39m         \u001b[38;5;28;01mraise\u001b[39;00m \u001b[38;5;167;01mValueError\u001b[39;00m(\u001b[33m\"\u001b[39m\u001b[33mPassing `min` or `max` keyword argument when \u001b[39m\u001b[33m\"\u001b[39m\n\u001b[32m   2328\u001b[39m                          \u001b[33m\"\u001b[39m\u001b[33m`a_min` and `a_max` are provided is forbidden.\u001b[39m\u001b[33m\"\u001b[39m)\n\u001b[32m   2330\u001b[39m     \u001b[38;5;28;01mreturn\u001b[39;00m _wrapfunc(a, \u001b[33m'\u001b[39m\u001b[33mclip\u001b[39m\u001b[33m'\u001b[39m, a_min, a_max, out=out, **kwargs)\n\u001b[32m-> \u001b[39m\u001b[32m2333\u001b[39m \u001b[38;5;28;01mdef\u001b[39;00m\u001b[38;5;250m \u001b[39m\u001b[34m_sum_dispatcher\u001b[39m(a, axis=\u001b[38;5;28;01mNone\u001b[39;00m, dtype=\u001b[38;5;28;01mNone\u001b[39;00m, out=\u001b[38;5;28;01mNone\u001b[39;00m, keepdims=\u001b[38;5;28;01mNone\u001b[39;00m,\n\u001b[32m   2334\u001b[39m                     initial=\u001b[38;5;28;01mNone\u001b[39;00m, where=\u001b[38;5;28;01mNone\u001b[39;00m):\n\u001b[32m   2335\u001b[39m     \u001b[38;5;28;01mreturn\u001b[39;00m (a, out)\n\u001b[32m   2338\u001b[39m \u001b[38;5;129m@array_function_dispatch\u001b[39m(_sum_dispatcher)\n\u001b[32m   2339\u001b[39m \u001b[38;5;28;01mdef\u001b[39;00m\u001b[38;5;250m \u001b[39m\u001b[34msum\u001b[39m(a, axis=\u001b[38;5;28;01mNone\u001b[39;00m, dtype=\u001b[38;5;28;01mNone\u001b[39;00m, out=\u001b[38;5;28;01mNone\u001b[39;00m, keepdims=np._NoValue,\n\u001b[32m   2340\u001b[39m         initial=np._NoValue, where=np._NoValue):\n",
      "\u001b[31mKeyboardInterrupt\u001b[39m: "
     ]
    },
    {
     "data": {
      "text/plain": [
       "<Figure size 1500x800 with 0 Axes>"
      ]
     },
     "metadata": {},
     "output_type": "display_data"
    }
   ],
   "source": [
    "# Graphe complet\n",
    "def plot_graph(G):\n",
    "    plt.figure(figsize=(15, 8))\n",
    "    pos = nx.spring_layout(G, seed=42, k=0.25)\n",
    "    edge_colors = [\"blue\" if d[\"relation\"]==\"broader\" else \"orange\" for u,v,d in G.edges(data=True)]\n",
    "    nx.draw(G, pos, with_labels=True, arrows=True, node_color='lightgreen', edge_color=edge_colors, node_size=1000, font_size=9)\n",
    "    plt.title(\"Thésaurus : génériques et associés\")\n",
    "    plt.show()\n",
    "plot_graph(G)"
   ]
  },
  {
   "cell_type": "markdown",
   "metadata": {},
   "source": [
    "## 5. Export CSV arborescence (niveau 1, niveau 2, ...)\n",
    "Chaque ligne = un concept spécifique (ID_TS), chaque colonne = un niveau d'arborescence."
   ]
  },
  {
   "cell_type": "code",
   "execution_count": null,
   "metadata": {},
   "outputs": [],
   "source": [
    "# Dictionnaires pour reconstituer l'arborescence\n",
    "id_to_label = {}\n",
    "child_to_parent = {}\n",
    "# Index rapide des relations\n",
    "for c in concepts:\n",
    "    if c[\"ID_TG\"]:\n",
    "        id_to_label[c[\"ID_TG\"]] = c[\"TermeGen\"]\n",
    "    if c[\"ID_TS\"]:\n",
    "        id_to_label[c[\"ID_TS\"]] = c[\"TermeSpe\"]\n",
    "    if c[\"ID_TS\"] and c[\"ID_TG\"]:\n",
    "        child_to_parent[c[\"ID_TS\"]] = c[\"ID_TG\"]\n",
    "\n",
    "def get_niveaux(concept_id):\n",
    "    chemin = []\n",
    "    while concept_id in id_to_label:\n",
    "        chemin.insert(0, id_to_label[concept_id])\n",
    "        if concept_id in child_to_parent:\n",
    "            concept_id = child_to_parent[concept_id]\n",
    "        else:\n",
    "            break\n",
    "    return chemin\n",
    "\n",
    "# Liste des chemins (une ligne par ID_TS)\n",
    "chemins = []\n",
    "for c in concepts:\n",
    "    if c[\"ID_TS\"]:\n",
    "        niveaux = get_niveaux(c[\"ID_TS\"])\n",
    "        chemins.append(niveaux)\n",
    "\n",
    "max_niveaux = max(len(chemin) for chemin in chemins)\n",
    "\n",
    "# Création d'un DataFrame pour export\n",
    "df = pd.DataFrame([([\"\"] * (max_niveaux - len(l)) + l) for l in chemins], columns=[f\"niveau {i+1}\" for i in range(max_niveaux)])\n",
    "df.to_csv(ARBO_CSV, index=False, encoding=\"utf-8\")\n",
    "print(f\"Export arborescence terminé : {ARBO_CSV}\")\n",
    "df.head()"
   ]
  }
 ],
 "metadata": {
  "kernelspec": {
   "display_name": ".env",
   "language": "python",
   "name": "python3"
  },
  "language_info": {
   "codemirror_mode": {
    "name": "ipython",
    "version": 3
   },
   "file_extension": ".py",
   "mimetype": "text/x-python",
   "name": "python",
   "nbconvert_exporter": "python",
   "pygments_lexer": "ipython3",
   "version": "3.12.9"
  }
 },
 "nbformat": 4,
 "nbformat_minor": 2
}
