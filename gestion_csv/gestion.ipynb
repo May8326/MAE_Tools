{
 "cells": [
  {
   "cell_type": "markdown",
   "metadata": {},
   "source": [
    "# Manipulation, SKOSification et Export Arborescent d'un Thésaurus CSV\n",
    "\n",
    "Ce carnet réalise les étapes suivantes :\n",
    "- Lecture d'un fichier CSV de thésaurus (structure ISO 25964)\n",
    "- Construction d'un graphe SKOS (via rdflib)\n",
    "- Visualisation de l'arbre et du graphe de concepts (networkx, matplotlib)\n",
    "- Export d'un nouveau CSV avec l'arborescence explicite, une colonne par niveau\n",
    "\n",
    "⚠️ Adaptez les chemins de fichiers selon vos besoins.\n"
   ]
  },
  {
   "cell_type": "code",
   "execution_count": 2,
   "metadata": {},
   "outputs": [],
   "source": [
    "# Imports nécessaires\n",
    "import csv\n",
    "from rdflib import Graph, Namespace, URIRef, Literal\n",
    "from rdflib.namespace import SKOS, RDF\n",
    "import networkx as nx\n",
    "import matplotlib.pyplot as plt\n",
    "import pandas as pd\n"
   ]
  },
  {
   "cell_type": "markdown",
   "metadata": {},
   "source": [
    "## 1. Paramètres et fonctions utilitaires"
   ]
  },
  {
   "cell_type": "code",
   "execution_count": 5,
   "metadata": {},
   "outputs": [],
   "source": [
    "# Chemin du fichier CSV d'entrée et des résultats\n",
    "DATA_DIR = \"data\"  # À adapter\n",
    "CSV_FILE = f\"{DATA_DIR}/20250710_BIB.csv\"  # À adapter\n",
    "SKOS_FILE = f\"{DATA_DIR}/thesaurus.ttl\"\n",
    "ARBO_CSV = f\"{DATA_DIR}/arborescence_niveaux.csv\"\n",
    "\n",
    "# Namespaces SKOS/EXEMPLE\n",
    "EX = Namespace(\"http://example.org/mae/\")\n",
    "THESAURUS = Namespace(\"http://example.org/mae/thesaurus/\")\n",
    "\n",
    "def clean_label(label):\n",
    "    return label.strip() if label else \"\"\n",
    "\n",
    "def make_uri(prefix, id):\n",
    "    return URIRef(f\"{prefix}{id}\")"
   ]
  },
  {
   "cell_type": "markdown",
   "metadata": {},
   "source": [
    "## 2. Lecture et parsing du CSV (point-virgule, encodage Windows/accents)"
   ]
  },
  {
   "cell_type": "code",
   "execution_count": 6,
   "metadata": {},
   "outputs": [
    {
     "name": "stdout",
     "output_type": "stream",
     "text": [
      "27680 concepts lus.\n"
     ]
    }
   ],
   "source": [
    "def read_thesaurus_csv(csv_file):\n",
    "    \"\"\"\n",
    "    Lecture du thésaurus au format CSV (point-virgule, encodage Windows),\n",
    "    retourne une liste de concepts (dicts)\n",
    "    \"\"\"\n",
    "    concepts = []\n",
    "    for encoding in ('cp1252', 'utf-8-sig'):\n",
    "        try:\n",
    "            with open(csv_file, newline='', encoding=encoding) as f:\n",
    "                reader = csv.DictReader(f, delimiter=';')\n",
    "                for row in reader:\n",
    "                    clean_row = {k: (v.strip() if isinstance(v, str) else \"\") for k, v in row.items()}\n",
    "                    concepts.append(clean_row)\n",
    "            break\n",
    "        except UnicodeDecodeError:\n",
    "            concepts = []\n",
    "            continue\n",
    "    if not concepts:\n",
    "        raise UnicodeDecodeError(\"Impossible de lire le fichier avec cp1252 ni utf-8-sig.\")\n",
    "    print(f\"{len(concepts)} concepts lus.\")\n",
    "    return concepts\n",
    "\n",
    "concepts = read_thesaurus_csv(CSV_FILE)"
   ]
  },
  {
   "cell_type": "markdown",
   "metadata": {},
   "source": [
    "## 3. Construction du graphe SKOS et de l'index d'arborescence"
   ]
  },
  {
   "cell_type": "code",
   "execution_count": null,
   "metadata": {},
   "outputs": [
    {
     "name": "stdout",
     "output_type": "stream",
     "text": [
      "Graphe SKOS construit.\n",
      "Exporté SKOS vers data/thesaurus.ttl\n"
     ]
    }
   ],
   "source": [
    "def build_skos_graph(concepts):\n",
    "    g = Graph()\n",
    "    g.bind(\"skos\", SKOS)\n",
    "    g.bind(\"ex\", EX)\n",
    "    g.bind(\"th\", THESAURUS)\n",
    "    id_to_uri = {}\n",
    "\n",
    "    for c in concepts:\n",
    "        # Générique\n",
    "        gen_id = c[\"ID_TG\"]\n",
    "        gen_label = clean_label(c[\"TermeGen\"])\n",
    "        if gen_id and gen_label:\n",
    "            gen_uri = make_uri(THESAURUS, gen_id)\n",
    "            id_to_uri[gen_id] = gen_uri\n",
    "            g.add((gen_uri, RDF.type, SKOS.Concept))\n",
    "            g.add((gen_uri, SKOS.prefLabel, Literal(gen_label, lang=\"fr\")))\n",
    "        # Spécifique\n",
    "        spe_id = c[\"ID_TS\"]\n",
    "        spe_label = clean_label(c[\"TermeSpe\"])\n",
    "        if spe_id and spe_label:\n",
    "            spe_uri = make_uri(THESAURUS, spe_id)\n",
    "            id_to_uri[spe_id] = spe_uri\n",
    "            g.add((spe_uri, RDF.type, SKOS.Concept))\n",
    "            g.add((spe_uri, SKOS.prefLabel, Literal(spe_label, lang=\"fr\")))\n",
    "            if gen_id and gen_label:\n",
    "                g.add((spe_uri, SKOS.broader, gen_uri))\n",
    "                g.add((gen_uri, SKOS.narrower, spe_uri))\n",
    "            # Notes\n",
    "            note = c.get(\"Note\", \"\")\n",
    "            if note:\n",
    "                g.add((spe_uri, SKOS.note, Literal(note, lang=\"fr\")))\n",
    "            # EP\n",
    "            ep = c.get(\"EP\", \"\")\n",
    "            if ep:\n",
    "                for alt in ep.split(\"|\"):\n",
    "                    alt = alt.strip()\n",
    "                    if alt:\n",
    "                        g.add((spe_uri, SKOS.altLabel, Literal(alt, lang=\"fr\")))\n",
    "            # TA (termes associés)\n",
    "            ta = c.get(\"TA\", \"\")\n",
    "            id_ta = c.get(\"ID_TA\", \"\")\n",
    "            if ta and id_ta:\n",
    "                ta_labels = [x.strip() for x in ta.split(\"|\")]\n",
    "                ta_ids = [x.strip() for x in id_ta.split(\"|\")]\n",
    "                for tlabel, tid in zip(ta_labels, ta_ids):\n",
    "                    if tid:\n",
    "                        ta_uri = make_uri(THESAURUS, tid)\n",
    "                        if (ta_uri, RDF.type, SKOS.Concept) not in g:\n",
    "                            g.add((ta_uri, RDF.type, SKOS.Concept))\n",
    "                            g.add((ta_uri, SKOS.prefLabel, Literal(tlabel, lang=\"fr\")))\n",
    "                        g.add((spe_uri, SKOS.related, ta_uri))\n",
    "                        g.add((ta_uri, SKOS.related, spe_uri))\n",
    "    print(\"Graphe SKOS construit.\")\n",
    "    return g, id_to_uri\n",
    "\n",
    "skos_graph, id_to_uri = build_skos_graph(concepts)\n",
    "# Export SKOS\n",
    "skos_graph.serialize(destination=SKOS_FILE, format=\"turtle\")\n",
    "print(f\"Exporté SKOS vers {SKOS_FILE}\")"
   ]
  },
  {
   "cell_type": "markdown",
   "metadata": {},
   "source": [
    "## 4. Visualisation : arbre et graphe complet"
   ]
  },
  {
   "cell_type": "code",
   "execution_count": null,
   "metadata": {},
   "outputs": [],
   "source": [
    "def build_networkx_graph(concepts):\n",
    "    G = nx.DiGraph()\n",
    "    id_to_label = {}\n",
    "    for c in concepts:\n",
    "        if c[\"ID_TG\"]:\n",
    "            id_to_label[c[\"ID_TG\"]] = c[\"TermeGen\"]\n",
    "        if c[\"ID_TS\"]:\n",
    "            id_to_label[c[\"ID_TS\"]] = c[\"TermeSpe\"]\n",
    "    for c in concepts:\n",
    "        gen_id = c[\"ID_TG\"]\n",
    "        spe_id = c[\"ID_TS\"]\n",
    "        if gen_id and spe_id:\n",
    "            G.add_edge(id_to_label[gen_id], id_to_label[spe_id], relation=\"broader\")\n",
    "        ta = c.get(\"TA\", \"\")\n",
    "        id_ta = c.get(\"ID_TA\", \"\")\n",
    "        if ta and id_ta and spe_id:\n",
    "            ta_labels = [x.strip() for x in ta.split(\"|\")]\n",
    "            ta_ids = [x.strip() for x in id_ta.split(\"|\")]\n",
    "            for tlabel, tid in zip(ta_labels, ta_ids):\n",
    "                if tid and tid in id_to_label:\n",
    "                    G.add_edge(id_to_label[spe_id], id_to_label[tid], relation=\"related\")\n",
    "    print(f\"Graphe de visualisation construit : {G.number_of_nodes()} noeuds, {G.number_of_edges()} arêtes.\")\n",
    "    return G\n",
    "\n",
    "G = build_networkx_graph(concepts)\n",
    "# Arbre (relations broader seulement)\n",
    "def plot_tree(G):\n",
    "    T = nx.DiGraph()\n",
    "    for u, v, d in G.edges(data=True):\n",
    "        if d[\"relation\"] == \"broader\":\n",
    "            T.add_edge(u, v)\n",
    "    plt.figure(figsize=(13, 6))\n",
    "    pos = nx.shell_layout(T)\n",
    "    nx.draw(T, pos, with_labels=True, arrows=True, node_color='lightblue', node_size=1000, font_size=9)\n",
    "    plt.title(\"Arbre hiérarchique (générique > spécifique)\")\n",
    "    plt.show()\n",
    "plot_tree(G)"
   ]
  },
  {
   "cell_type": "code",
   "execution_count": null,
   "metadata": {},
   "outputs": [],
   "source": [
    "# Graphe complet\n",
    "def plot_graph(G):\n",
    "    plt.figure(figsize=(15, 8))\n",
    "    pos = nx.spring_layout(G, seed=42, k=0.25)\n",
    "    edge_colors = [\"blue\" if d[\"relation\"]==\"broader\" else \"orange\" for u,v,d in G.edges(data=True)]\n",
    "    nx.draw(G, pos, with_labels=True, arrows=True, node_color='lightgreen', edge_color=edge_colors, node_size=1000, font_size=9)\n",
    "    plt.title(\"Thésaurus : génériques et associés\")\n",
    "    plt.show()\n",
    "plot_graph(G)"
   ]
  },
  {
   "cell_type": "markdown",
   "metadata": {},
   "source": [
    "## 5. Export CSV arborescence (niveau 1, niveau 2, ...)\n",
    "Chaque ligne = un concept spécifique (ID_TS), chaque colonne = un niveau d'arborescence."
   ]
  },
  {
   "cell_type": "code",
   "execution_count": null,
   "metadata": {},
   "outputs": [],
   "source": [
    "# Dictionnaires pour reconstituer l'arborescence\n",
    "id_to_label = {}\n",
    "child_to_parent = {}\n",
    "# Index rapide des relations\n",
    "for c in concepts:\n",
    "    if c[\"ID_TG\"]:\n",
    "        id_to_label[c[\"ID_TG\"]] = c[\"TermeGen\"]\n",
    "    if c[\"ID_TS\"]:\n",
    "        id_to_label[c[\"ID_TS\"]] = c[\"TermeSpe\"]\n",
    "    if c[\"ID_TS\"] and c[\"ID_TG\"]:\n",
    "        child_to_parent[c[\"ID_TS\"]] = c[\"ID_TG\"]\n",
    "\n",
    "def get_niveaux(concept_id):\n",
    "    chemin = []\n",
    "    while concept_id in id_to_label:\n",
    "        chemin.insert(0, id_to_label[concept_id])\n",
    "        if concept_id in child_to_parent:\n",
    "            concept_id = child_to_parent[concept_id]\n",
    "        else:\n",
    "            break\n",
    "    return chemin\n",
    "\n",
    "# Liste des chemins (une ligne par ID_TS)\n",
    "chemins = []\n",
    "for c in concepts:\n",
    "    if c[\"ID_TS\"]:\n",
    "        niveaux = get_niveaux(c[\"ID_TS\"])\n",
    "        chemins.append(niveaux)\n",
    "\n",
    "max_niveaux = max(len(chemin) for chemin in chemins)\n",
    "\n",
    "# Création d'un DataFrame pour export\n",
    "df = pd.DataFrame([([\"\"] * (max_niveaux - len(l)) + l) for l in chemins], columns=[f\"niveau {i+1}\" for i in range(max_niveaux)])\n",
    "df.to_csv(ARBO_CSV, index=False, encoding=\"utf-8\")\n",
    "print(f\"Export arborescence terminé : {ARBO_CSV}\")\n",
    "df.head()"
   ]
  }
 ],
 "metadata": {
  "kernelspec": {
   "display_name": ".env",
   "language": "python",
   "name": "python3"
  },
  "language_info": {
   "codemirror_mode": {
    "name": "ipython",
    "version": 3
   },
   "file_extension": ".py",
   "mimetype": "text/x-python",
   "name": "python",
   "nbconvert_exporter": "python",
   "pygments_lexer": "ipython3",
   "version": "3.12.9"
  }
 },
 "nbformat": 4,
 "nbformat_minor": 2
}
